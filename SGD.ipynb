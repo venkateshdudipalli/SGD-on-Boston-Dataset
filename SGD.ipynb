{
  "nbformat": 4,
  "nbformat_minor": 0,
  "metadata": {
    "colab": {
      "name": "SGD.ipynb",
      "version": "0.3.2",
      "provenance": []
    },
    "kernelspec": {
      "name": "python3",
      "display_name": "Python 3"
    }
  },
  "cells": [
    {
      "cell_type": "code",
      "metadata": {
        "id": "AvaOcACPy2Hk",
        "colab_type": "code",
        "colab": {}
      },
      "source": [
        "import warnings\n",
        "warnings.filterwarnings(\"ignore\")\n",
        "from sklearn.datasets import load_boston\n",
        "from random import seed\n",
        "from random import randrange\n",
        "from csv import reader\n",
        "from math import sqrt\n",
        "from sklearn import preprocessing\n",
        "import pandas as pd\n",
        "import numpy as np\n",
        "import matplotlib.pyplot as plt\n",
        "from prettytable import PrettyTable\n",
        "from sklearn.linear_model import SGDRegressor\n",
        "from sklearn import preprocessing\n",
        "from sklearn.metrics import mean_squared_error"
      ],
      "execution_count": 0,
      "outputs": []
    },
    {
      "cell_type": "code",
      "metadata": {
        "id": "-zlKnBaK07Pp",
        "colab_type": "code",
        "outputId": "2ce4b73b-c37d-4285-d566-1499f06e01c2",
        "colab": {
          "base_uri": "https://localhost:8080/",
          "height": 195
        }
      },
      "source": [
        "X = load_boston().data\n",
        "Y = load_boston().target\n",
        "df=pd.DataFrame(X)\n",
        "#some intuition\n",
        "df[13]=df[10]//df[12]  #here we set a column 13 such that df[13]=Boston_data['Medv']//Boston_data['B']\n",
        "X=df.as_matrix()\n",
        "df.head()"
      ],
      "execution_count": 0,
      "outputs": [
        {
          "output_type": "execute_result",
          "data": {
            "text/html": [
              "<div>\n",
              "<style scoped>\n",
              "    .dataframe tbody tr th:only-of-type {\n",
              "        vertical-align: middle;\n",
              "    }\n",
              "\n",
              "    .dataframe tbody tr th {\n",
              "        vertical-align: top;\n",
              "    }\n",
              "\n",
              "    .dataframe thead th {\n",
              "        text-align: right;\n",
              "    }\n",
              "</style>\n",
              "<table border=\"1\" class=\"dataframe\">\n",
              "  <thead>\n",
              "    <tr style=\"text-align: right;\">\n",
              "      <th></th>\n",
              "      <th>0</th>\n",
              "      <th>1</th>\n",
              "      <th>2</th>\n",
              "      <th>3</th>\n",
              "      <th>4</th>\n",
              "      <th>5</th>\n",
              "      <th>6</th>\n",
              "      <th>7</th>\n",
              "      <th>8</th>\n",
              "      <th>9</th>\n",
              "      <th>10</th>\n",
              "      <th>11</th>\n",
              "      <th>12</th>\n",
              "      <th>13</th>\n",
              "    </tr>\n",
              "  </thead>\n",
              "  <tbody>\n",
              "    <tr>\n",
              "      <th>0</th>\n",
              "      <td>0.00632</td>\n",
              "      <td>18.0</td>\n",
              "      <td>2.31</td>\n",
              "      <td>0.0</td>\n",
              "      <td>0.538</td>\n",
              "      <td>6.575</td>\n",
              "      <td>65.2</td>\n",
              "      <td>4.0900</td>\n",
              "      <td>1.0</td>\n",
              "      <td>296.0</td>\n",
              "      <td>15.3</td>\n",
              "      <td>396.90</td>\n",
              "      <td>4.98</td>\n",
              "      <td>3.0</td>\n",
              "    </tr>\n",
              "    <tr>\n",
              "      <th>1</th>\n",
              "      <td>0.02731</td>\n",
              "      <td>0.0</td>\n",
              "      <td>7.07</td>\n",
              "      <td>0.0</td>\n",
              "      <td>0.469</td>\n",
              "      <td>6.421</td>\n",
              "      <td>78.9</td>\n",
              "      <td>4.9671</td>\n",
              "      <td>2.0</td>\n",
              "      <td>242.0</td>\n",
              "      <td>17.8</td>\n",
              "      <td>396.90</td>\n",
              "      <td>9.14</td>\n",
              "      <td>1.0</td>\n",
              "    </tr>\n",
              "    <tr>\n",
              "      <th>2</th>\n",
              "      <td>0.02729</td>\n",
              "      <td>0.0</td>\n",
              "      <td>7.07</td>\n",
              "      <td>0.0</td>\n",
              "      <td>0.469</td>\n",
              "      <td>7.185</td>\n",
              "      <td>61.1</td>\n",
              "      <td>4.9671</td>\n",
              "      <td>2.0</td>\n",
              "      <td>242.0</td>\n",
              "      <td>17.8</td>\n",
              "      <td>392.83</td>\n",
              "      <td>4.03</td>\n",
              "      <td>4.0</td>\n",
              "    </tr>\n",
              "    <tr>\n",
              "      <th>3</th>\n",
              "      <td>0.03237</td>\n",
              "      <td>0.0</td>\n",
              "      <td>2.18</td>\n",
              "      <td>0.0</td>\n",
              "      <td>0.458</td>\n",
              "      <td>6.998</td>\n",
              "      <td>45.8</td>\n",
              "      <td>6.0622</td>\n",
              "      <td>3.0</td>\n",
              "      <td>222.0</td>\n",
              "      <td>18.7</td>\n",
              "      <td>394.63</td>\n",
              "      <td>2.94</td>\n",
              "      <td>6.0</td>\n",
              "    </tr>\n",
              "    <tr>\n",
              "      <th>4</th>\n",
              "      <td>0.06905</td>\n",
              "      <td>0.0</td>\n",
              "      <td>2.18</td>\n",
              "      <td>0.0</td>\n",
              "      <td>0.458</td>\n",
              "      <td>7.147</td>\n",
              "      <td>54.2</td>\n",
              "      <td>6.0622</td>\n",
              "      <td>3.0</td>\n",
              "      <td>222.0</td>\n",
              "      <td>18.7</td>\n",
              "      <td>396.90</td>\n",
              "      <td>5.33</td>\n",
              "      <td>3.0</td>\n",
              "    </tr>\n",
              "  </tbody>\n",
              "</table>\n",
              "</div>"
            ],
            "text/plain": [
              "        0     1     2    3      4      5   ...   8      9     10      11    12   13\n",
              "0  0.00632  18.0  2.31  0.0  0.538  6.575  ...  1.0  296.0  15.3  396.90  4.98  3.0\n",
              "1  0.02731   0.0  7.07  0.0  0.469  6.421  ...  2.0  242.0  17.8  396.90  9.14  1.0\n",
              "2  0.02729   0.0  7.07  0.0  0.469  7.185  ...  2.0  242.0  17.8  392.83  4.03  4.0\n",
              "3  0.03237   0.0  2.18  0.0  0.458  6.998  ...  3.0  222.0  18.7  394.63  2.94  6.0\n",
              "4  0.06905   0.0  2.18  0.0  0.458  7.147  ...  3.0  222.0  18.7  396.90  5.33  3.0\n",
              "\n",
              "[5 rows x 14 columns]"
            ]
          },
          "metadata": {
            "tags": []
          },
          "execution_count": 2
        }
      ]
    },
    {
      "cell_type": "code",
      "metadata": {
        "id": "RlUfztQh1Bw8",
        "colab_type": "code",
        "outputId": "bc618731-07a4-4938-ac4d-159e17e27559",
        "colab": {
          "base_uri": "https://localhost:8080/",
          "height": 195
        }
      },
      "source": [
        "#Splitting whole data into train and test\n",
        "from sklearn.model_selection  import train_test_split\n",
        "X_train, X_test, y_train, y_test=train_test_split(X, Y, test_size=0.3, random_state=4)\n",
        "\n",
        "# applying column standardization on train and test data\n",
        "\n",
        "scaler = preprocessing.StandardScaler()\n",
        "X_train = scaler.fit_transform(X_train)\n",
        "X_test=scaler.transform(X_test)\n",
        "\n",
        "data_train=pd.DataFrame(X_train)\n",
        "data_train['price']=y_train\n",
        "data_train.head()"
      ],
      "execution_count": 0,
      "outputs": [
        {
          "output_type": "execute_result",
          "data": {
            "text/html": [
              "<div>\n",
              "<style scoped>\n",
              "    .dataframe tbody tr th:only-of-type {\n",
              "        vertical-align: middle;\n",
              "    }\n",
              "\n",
              "    .dataframe tbody tr th {\n",
              "        vertical-align: top;\n",
              "    }\n",
              "\n",
              "    .dataframe thead th {\n",
              "        text-align: right;\n",
              "    }\n",
              "</style>\n",
              "<table border=\"1\" class=\"dataframe\">\n",
              "  <thead>\n",
              "    <tr style=\"text-align: right;\">\n",
              "      <th></th>\n",
              "      <th>0</th>\n",
              "      <th>1</th>\n",
              "      <th>2</th>\n",
              "      <th>3</th>\n",
              "      <th>4</th>\n",
              "      <th>5</th>\n",
              "      <th>6</th>\n",
              "      <th>7</th>\n",
              "      <th>8</th>\n",
              "      <th>9</th>\n",
              "      <th>10</th>\n",
              "      <th>11</th>\n",
              "      <th>12</th>\n",
              "      <th>13</th>\n",
              "      <th>price</th>\n",
              "    </tr>\n",
              "  </thead>\n",
              "  <tbody>\n",
              "    <tr>\n",
              "      <th>0</th>\n",
              "      <td>-0.425469</td>\n",
              "      <td>-0.470768</td>\n",
              "      <td>-0.954686</td>\n",
              "      <td>-0.231455</td>\n",
              "      <td>-0.919581</td>\n",
              "      <td>0.215100</td>\n",
              "      <td>-0.747410</td>\n",
              "      <td>0.454022</td>\n",
              "      <td>-0.764468</td>\n",
              "      <td>-0.976012</td>\n",
              "      <td>0.005460</td>\n",
              "      <td>0.441889</td>\n",
              "      <td>-0.444819</td>\n",
              "      <td>-0.354084</td>\n",
              "      <td>23.9</td>\n",
              "    </tr>\n",
              "    <tr>\n",
              "      <th>1</th>\n",
              "      <td>-0.426323</td>\n",
              "      <td>2.992576</td>\n",
              "      <td>-1.330157</td>\n",
              "      <td>-0.231455</td>\n",
              "      <td>-1.227311</td>\n",
              "      <td>-0.883652</td>\n",
              "      <td>-1.691588</td>\n",
              "      <td>3.163428</td>\n",
              "      <td>-0.651568</td>\n",
              "      <td>-0.464548</td>\n",
              "      <td>1.616046</td>\n",
              "      <td>0.287498</td>\n",
              "      <td>-0.666438</td>\n",
              "      <td>0.444297</td>\n",
              "      <td>18.2</td>\n",
              "    </tr>\n",
              "    <tr>\n",
              "      <th>2</th>\n",
              "      <td>-0.385190</td>\n",
              "      <td>-0.470768</td>\n",
              "      <td>-0.705828</td>\n",
              "      <td>4.320494</td>\n",
              "      <td>-0.423795</td>\n",
              "      <td>-0.125423</td>\n",
              "      <td>0.818985</td>\n",
              "      <td>-0.353904</td>\n",
              "      <td>-0.199967</td>\n",
              "      <td>-0.623278</td>\n",
              "      <td>-0.500725</td>\n",
              "      <td>0.423713</td>\n",
              "      <td>1.226505</td>\n",
              "      <td>-1.152466</td>\n",
              "      <td>21.7</td>\n",
              "    </tr>\n",
              "    <tr>\n",
              "      <th>3</th>\n",
              "      <td>-0.249268</td>\n",
              "      <td>-0.470768</td>\n",
              "      <td>-0.423497</td>\n",
              "      <td>-0.231455</td>\n",
              "      <td>-0.158805</td>\n",
              "      <td>-0.228336</td>\n",
              "      <td>1.021567</td>\n",
              "      <td>-0.021755</td>\n",
              "      <td>-0.651568</td>\n",
              "      <td>-0.623278</td>\n",
              "      <td>1.155878</td>\n",
              "      <td>-1.185126</td>\n",
              "      <td>1.068407</td>\n",
              "      <td>-0.354084</td>\n",
              "      <td>13.5</td>\n",
              "    </tr>\n",
              "    <tr>\n",
              "      <th>4</th>\n",
              "      <td>-0.365945</td>\n",
              "      <td>0.395068</td>\n",
              "      <td>-1.030363</td>\n",
              "      <td>-0.231455</td>\n",
              "      <td>0.157472</td>\n",
              "      <td>3.102729</td>\n",
              "      <td>-0.060078</td>\n",
              "      <td>-0.646202</td>\n",
              "      <td>-0.538668</td>\n",
              "      <td>-0.876071</td>\n",
              "      <td>-2.525462</td>\n",
              "      <td>0.306551</td>\n",
              "      <td>-0.752545</td>\n",
              "      <td>-0.354084</td>\n",
              "      <td>50.0</td>\n",
              "    </tr>\n",
              "  </tbody>\n",
              "</table>\n",
              "</div>"
            ],
            "text/plain": [
              "          0         1         2         3  ...        11        12        13  price\n",
              "0 -0.425469 -0.470768 -0.954686 -0.231455  ...  0.441889 -0.444819 -0.354084   23.9\n",
              "1 -0.426323  2.992576 -1.330157 -0.231455  ...  0.287498 -0.666438  0.444297   18.2\n",
              "2 -0.385190 -0.470768 -0.705828  4.320494  ...  0.423713  1.226505 -1.152466   21.7\n",
              "3 -0.249268 -0.470768 -0.423497 -0.231455  ... -1.185126  1.068407 -0.354084   13.5\n",
              "4 -0.365945  0.395068 -1.030363 -0.231455  ...  0.306551 -0.752545 -0.354084   50.0\n",
              "\n",
              "[5 rows x 15 columns]"
            ]
          },
          "metadata": {
            "tags": []
          },
          "execution_count": 3
        }
      ]
    },
    {
      "cell_type": "code",
      "metadata": {
        "id": "RgsQ3FE21Tz6",
        "colab_type": "code",
        "outputId": "604b2669-c48c-4c2b-975f-a1224305b035",
        "colab": {
          "base_uri": "https://localhost:8080/",
          "height": 84
        }
      },
      "source": [
        "#SGD implementation for linear regression\n",
        "\n",
        "W,B,iteration,lr_rate,k=np.zeros(shape=(1,14)),0,750,0.01,25 #intialise W and B to zero\n",
        "\n",
        "while iteration>=0:\n",
        "    w,b,temp_vectors,temp_intercept=W,B,np.zeros(shape=(1,14)),0\n",
        "    data=data_train.sample(25) #sampling random k=batch size=20 data\n",
        "    x=np.array(data.drop('price',axis=1))\n",
        "    y=np.array(data['price'])\n",
        "    \n",
        "    for i in range(k):\n",
        "        temp_vectors+=(-2)*x[i]*(y[i]-(np.dot(w,x[i])+b))#partial differentiation wrt w dl/dw=1/k(-2x)*(y-wTx-b)\n",
        "        temp_intercept+=(-2)*(y[i]-(np.dot(w,x[i])+b))#partial differentiation wrt b dl/db=1/k(-2)*(y-wTx-b)\n",
        "        \n",
        "    W=(w-lr_rate*(temp_vectors)/k)\n",
        "    B=(b-lr_rate*(temp_intercept)/k)\n",
        "    \n",
        "    iteration-=1\n",
        "    \n",
        "    \n",
        "print(W)\n",
        "print(B)"
      ],
      "execution_count": 0,
      "outputs": [
        {
          "output_type": "stream",
          "text": [
            "[[-1.07154866  0.6824004  -0.73812727  0.94985895 -1.53072618  1.83740877\n",
            "   0.12717258 -3.04013226  1.95119164 -1.05883575 -2.31322222  0.84870653\n",
            "  -1.83316004  2.73721903]]\n",
            "[22.13209163]\n"
          ],
          "name": "stdout"
        }
      ]
    },
    {
      "cell_type": "code",
      "metadata": {
        "id": "ZGn8FnpG1sjM",
        "colab_type": "code",
        "colab": {}
      },
      "source": [
        "#prediction on x_test\n",
        "\n",
        "y_predic_linear_regression = [ ]\n",
        "for i in range(len(X_test)):\n",
        "    val=np.dot(W,X_test[i])+B  #val= wTx+b\n",
        "    y_predic_linear_regression.append(np.asscalar(val))"
      ],
      "execution_count": 0,
      "outputs": []
    },
    {
      "cell_type": "code",
      "metadata": {
        "id": "W9tiz5tS1xVx",
        "colab_type": "code",
        "outputId": "8e21cd42-a260-49c2-821e-decb2bf9c352",
        "colab": {
          "base_uri": "https://localhost:8080/",
          "height": 295
        }
      },
      "source": [
        "#Scatter plot of actual price vs predicted price\n",
        "\n",
        "plt.scatter(y_test, y_predic_linear_regression)\n",
        "plt.xlabel('Actual price')\n",
        "plt.ylabel('Predictd price')\n",
        "plt.title('Actual price vs Predicted price')\n",
        "plt.show()"
      ],
      "execution_count": 0,
      "outputs": [
        {
          "output_type": "display_data",
          "data": {
            "image/png": "[encoded data removed]",
            "text/plain": [
              "<Figure size 432x288 with 1 Axes>"
            ]
          },
          "metadata": {
            "tags": []
          }
        }
      ]
    },
    {
      "cell_type": "code",
      "metadata": {
        "id": "rBtEm8Ax2Pn0",
        "colab_type": "code",
        "outputId": "299e00ec-e4da-41b0-b5d3-cc084c5538d5",
        "colab": {
          "base_uri": "https://localhost:8080/",
          "height": 34
        }
      },
      "source": [
        "MSE_linear_regression = mean_squared_error(y_test,y_predic_linear_regression)\n",
        "print('mean squared error =',MSE_linear_regression)"
      ],
      "execution_count": 0,
      "outputs": [
        {
          "output_type": "stream",
          "text": [
            "mean squared error = 23.05958235093564\n"
          ],
          "name": "stdout"
        }
      ]
    },
    {
      "cell_type": "code",
      "metadata": {
        "id": "6TB0thKW2S07",
        "colab_type": "code",
        "outputId": "aafe8456-0309-4e2b-a64c-f3e968a301ca",
        "colab": {
          "base_uri": "https://localhost:8080/",
          "height": 295
        }
      },
      "source": [
        "#SGD regression sklearn implementation\n",
        "\n",
        "model = SGDRegressor(learning_rate ='constant',eta0 = 0.01, penalty = None, n_iter_no_change = 100, max_iter = 100)\n",
        "model.fit(X_train,y_train)\n",
        "y_pred_sgd = model.predict(X_test)\n",
        "\n",
        "#Scatter plot of actual price vs predicted price\n",
        "\n",
        "plt.scatter(y_test,y_pred_sgd)\n",
        "plt.xlabel('Actual price')\n",
        "plt.ylabel('Predictd price')\n",
        "plt.title('Actual price vs Predicted price')\n",
        "plt.show()"
      ],
      "execution_count": 0,
      "outputs": [
        {
          "output_type": "display_data",
          "data": {
            "image/png": "[encoded data removed]",
            "text/plain": [
              "<Figure size 432x288 with 1 Axes>"
            ]
          },
          "metadata": {
            "tags": []
          }
        }
      ]
    },
    {
      "cell_type": "code",
      "metadata": {
        "id": "aRNYv3e955Eq",
        "colab_type": "code",
        "outputId": "cdb73169-6cbf-4dde-b4da-17aecfda45bd",
        "colab": {
          "base_uri": "https://localhost:8080/",
          "height": 34
        }
      },
      "source": [
        "MSE_sgd=mean_squared_error(y_test,y_pred_sgd)\n",
        "print('mean squared error =',MSE_sgd)"
      ],
      "execution_count": 0,
      "outputs": [
        {
          "output_type": "stream",
          "text": [
            "mean squared error = 25.215752448802053\n"
          ],
          "name": "stdout"
        }
      ]
    },
    {
      "cell_type": "code",
      "metadata": {
        "id": "9y8a89r26AbH",
        "colab_type": "code",
        "outputId": "77d8bf3a-c875-4997-b07a-69c11de51bba",
        "colab": {
          "base_uri": "https://localhost:8080/",
          "height": 67
        }
      },
      "source": [
        "#comparison between MSE of own implementation and SGD sklearn implementation\n",
        "print('MSE of manual implementation = ',MSE_linear_regression)\n",
        "print('='*50)\n",
        "print('MSE of SGD sklearn implementation = ',MSE_sgd)"
      ],
      "execution_count": 0,
      "outputs": [
        {
          "output_type": "stream",
          "text": [
            "MSE of manual implementation =  23.05958235093564\n",
            "==================================================\n",
            "MSE of SGD sklearn implementation =  25.215752448802053\n"
          ],
          "name": "stdout"
        }
      ]
    },
    {
      "cell_type": "code",
      "metadata": {
        "id": "CAsytX-J6CoV",
        "colab_type": "code",
        "colab": {}
      },
      "source": [
        ""
      ],
      "execution_count": 0,
      "outputs": []
    }
  ]
}